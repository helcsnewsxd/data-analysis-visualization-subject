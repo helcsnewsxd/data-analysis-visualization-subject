{
  "cells": [
    {
      "cell_type": "markdown",
      "id": "b8843c19",
      "metadata": {
        "id": "b8843c19"
      },
      "source": [
        "# **Test de Hipótesis**\n",
        "## Ejemplos"
      ]
    },
    {
      "cell_type": "markdown",
      "id": "11c9f08c",
      "metadata": {
        "ExecuteTime": {
          "end_time": "2022-09-13T09:43:29.997983Z",
          "start_time": "2022-09-13T09:43:29.978660Z"
        },
        "id": "11c9f08c"
      },
      "source": [
        "Evaluación de la hipótesis\n",
        "1. Definir H0, H1\n",
        "2. Identificar prueba para validar H0\n",
        "3. Decide alfa\n",
        "4. Calcular el valor p\n",
        "5. Si p < alfa entonces rechaza H0, viceversa"
      ]
    },
    {
      "cell_type": "markdown",
      "id": "5ScGvbIqkgK0",
      "metadata": {
        "id": "5ScGvbIqkgK0"
      },
      "source": [
        "# Ejemplo\n",
        "\n",
        "Una investigadora en botánica quiere saber si la áltura promedio de cierta especia de planta es igual a 38 cm (hipótesis nula)\n",
        "\n",
        "Para esto colecta una muestra aleatoria de 12 plantas y registra su altura:"
      ]
    },
    {
      "cell_type": "code",
      "execution_count": 1,
      "id": "KSna-_aekkVa",
      "metadata": {
        "colab": {
          "base_uri": "https://localhost:8080/"
        },
        "id": "KSna-_aekkVa",
        "outputId": "f3c6fe86-c334-468d-88a0-77b4b3a03750"
      },
      "outputs": [
        {
          "data": {
            "text/plain": [
              "[35.56,\n",
              " 35.56,\n",
              " 40.64,\n",
              " 33.02,\n",
              " 30.48,\n",
              " 43.18,\n",
              " 38.1,\n",
              " 35.56,\n",
              " 38.1,\n",
              " 33.02,\n",
              " 38.1,\n",
              " 35.56]"
            ]
          },
          "execution_count": 1,
          "metadata": {},
          "output_type": "execute_result"
        }
      ],
      "source": [
        "import numpy as np\n",
        "import scipy.stats\n",
        "\n",
        "mu = 38.\n",
        "\n",
        "alpha = 0.05\n",
        "data = ([35.56, 35.56, 40.64, 33.02, 30.48, 43.18, 38.1 , 35.56, 38.1 ,\n",
        "       33.02, 38.1 , 35.56])\n",
        "data"
      ]
    },
    {
      "cell_type": "markdown",
      "id": "KhY-oFI1knMy",
      "metadata": {
        "id": "KhY-oFI1knMy"
      },
      "source": [
        "Para realizar un t-test de una muestra con scipy utilizamos"
      ]
    },
    {
      "cell_type": "code",
      "execution_count": 2,
      "id": "Mx36NCXRkmtK",
      "metadata": {
        "colab": {
          "base_uri": "https://localhost:8080/"
        },
        "id": "Mx36NCXRkmtK",
        "outputId": "854ebcb8-dedb-43e8-c539-08b8f558692a"
      },
      "outputs": [
        {
          "data": {
            "text/plain": [
              "TtestResult(statistic=-1.5853482351389023, pvalue=0.1411941997029352, df=11)"
            ]
          },
          "execution_count": 2,
          "metadata": {},
          "output_type": "execute_result"
        }
      ],
      "source": [
        "result = scipy.stats.ttest_1samp(data, mu, alternative='two-sided')\n",
        "result"
      ]
    },
    {
      "cell_type": "markdown",
      "id": "XOBe-qKFk8mN",
      "metadata": {
        "id": "XOBe-qKFk8mN"
      },
      "source": [
        "donde"
      ]
    },
    {
      "cell_type": "code",
      "execution_count": 1,
      "id": "602oSUjSk9LR",
      "metadata": {
        "colab": {
          "base_uri": "https://localhost:8080/"
        },
        "id": "602oSUjSk9LR",
        "outputId": "058c0187-9e9a-4b59-f2a9-05520c918623"
      },
      "outputs": [
        {
          "ename": "NameError",
          "evalue": "name 'result' is not defined",
          "output_type": "error",
          "traceback": [
            "\u001b[1;31m---------------------------------------------------------------------------\u001b[0m",
            "\u001b[1;31mNameError\u001b[0m                                 Traceback (most recent call last)",
            "Cell \u001b[1;32mIn[1], line 1\u001b[0m\n\u001b[1;32m----> 1\u001b[0m \u001b[38;5;28;01mif\u001b[39;00m \u001b[43mresult\u001b[49m\u001b[38;5;241m.\u001b[39mpvalue \u001b[38;5;241m>\u001b[39m alpha:\n\u001b[0;32m      2\u001b[0m     \u001b[38;5;28mprint\u001b[39m(\u001b[38;5;124m\"\u001b[39m\u001b[38;5;124mNo podemos rechazar la hipótesis nula debido a la falta de evidencia\u001b[39m\u001b[38;5;124m\"\u001b[39m)\n\u001b[0;32m      4\u001b[0m \u001b[38;5;28;01melse\u001b[39;00m:\n",
            "\u001b[1;31mNameError\u001b[0m: name 'result' is not defined"
          ]
        }
      ],
      "source": [
        "if result.pvalue > alpha:\n",
        "    print(\"No podemos rechazar la hipótesis nula debido a la falta de evidencia\")\n",
        "\n",
        "else:\n",
        "    print(\"Rechazamos la hipótesis nula. Hay evidencia suficiente para rechazar la hipótesis nula\")"
      ]
    },
    {
      "cell_type": "markdown",
      "id": "140d723c",
      "metadata": {
        "id": "140d723c"
      },
      "source": [
        "### Ejemplo 1.\n",
        "Un gerente de alimentos y bebidas quiere determinar si existe alguna diferencia significativa en el diámetro de la costeleta entre dos proveedores. ¿Se recolectó y midió una muestra de costeleta seleccionada al azar de ambos proveedores?\n",
        "\n",
        "Analice los datos y saque inferencias con un nivel de significancia del 5%. Indique los supuestos y las pruebas que llevó a cabo para comprobar la validez de los supuestos.\n",
        "\n"
      ]
    },
    {
      "cell_type": "code",
      "execution_count": 4,
      "id": "0777068c",
      "metadata": {
        "ExecuteTime": {
          "end_time": "2022-09-17T07:40:53.244765Z",
          "start_time": "2022-09-17T07:40:52.205980Z"
        },
        "id": "0777068c"
      },
      "outputs": [],
      "source": [
        "import pandas as pd\n",
        "import numpy as np\n",
        "import scipy.stats as stats"
      ]
    },
    {
      "cell_type": "code",
      "execution_count": 5,
      "id": "74e1bfab",
      "metadata": {
        "ExecuteTime": {
          "end_time": "2022-09-17T07:40:53.275147Z",
          "start_time": "2022-09-17T07:40:53.244765Z"
        },
        "colab": {
          "base_uri": "https://localhost:8080/"
        },
        "id": "74e1bfab",
        "outputId": "55431c26-721c-4a78-a2a9-28914f7f2f49"
      },
      "outputs": [
        {
          "data": {
            "text/html": [
              "<div>\n",
              "<style scoped>\n",
              "    .dataframe tbody tr th:only-of-type {\n",
              "        vertical-align: middle;\n",
              "    }\n",
              "\n",
              "    .dataframe tbody tr th {\n",
              "        vertical-align: top;\n",
              "    }\n",
              "\n",
              "    .dataframe thead th {\n",
              "        text-align: right;\n",
              "    }\n",
              "</style>\n",
              "<table border=\"1\" class=\"dataframe\">\n",
              "  <thead>\n",
              "    <tr style=\"text-align: right;\">\n",
              "      <th></th>\n",
              "      <th>Unit A</th>\n",
              "      <th>Unit B</th>\n",
              "    </tr>\n",
              "  </thead>\n",
              "  <tbody>\n",
              "    <tr>\n",
              "      <th>0</th>\n",
              "      <td>6.8090</td>\n",
              "      <td>6.7703</td>\n",
              "    </tr>\n",
              "    <tr>\n",
              "      <th>1</th>\n",
              "      <td>6.4376</td>\n",
              "      <td>7.5093</td>\n",
              "    </tr>\n",
              "    <tr>\n",
              "      <th>2</th>\n",
              "      <td>6.9157</td>\n",
              "      <td>6.7300</td>\n",
              "    </tr>\n",
              "    <tr>\n",
              "      <th>3</th>\n",
              "      <td>7.3012</td>\n",
              "      <td>6.7878</td>\n",
              "    </tr>\n",
              "    <tr>\n",
              "      <th>4</th>\n",
              "      <td>7.4488</td>\n",
              "      <td>7.1522</td>\n",
              "    </tr>\n",
              "  </tbody>\n",
              "</table>\n",
              "</div>"
            ],
            "text/plain": [
              "   Unit A  Unit B\n",
              "0  6.8090  6.7703\n",
              "1  6.4376  7.5093\n",
              "2  6.9157  6.7300\n",
              "3  7.3012  6.7878\n",
              "4  7.4488  7.1522"
            ]
          },
          "execution_count": 5,
          "metadata": {},
          "output_type": "execute_result"
        }
      ],
      "source": [
        "url = 'https://raw.githubusercontent.com/DiploDatos/AnalisisyVisualizacion/master/Cutlets.csv'\n",
        "df = pd.read_csv(url)\n",
        "df.head()"
      ]
    },
    {
      "cell_type": "markdown",
      "id": "9219eb6a",
      "metadata": {
        "id": "9219eb6a"
      },
      "source": [
        "H0= No hay diferencia significativa en el tamaño promedio de la costeleta\n",
        "\n",
        "H1= diferencia significativa en el tamaño promedio de la costeleta"
      ]
    },
    {
      "cell_type": "markdown",
      "id": "9b9307e6",
      "metadata": {
        "id": "9b9307e6"
      },
      "source": [
        " Prueba t de dos colas y 2 muestras"
      ]
    },
    {
      "cell_type": "markdown",
      "id": "40c7d1e0",
      "metadata": {
        "id": "40c7d1e0"
      },
      "source": [
        "Para un intervalo de confianza del 95% de dos colas, el nivel de significancia es del 5% y el alfa\n",
        "\n",
        "1. Elemento de lista\n",
        "2. Elemento de lista\n",
        "\n",
        "el valor es 0.025"
      ]
    },
    {
      "cell_type": "code",
      "execution_count": 6,
      "id": "fb95bd66",
      "metadata": {
        "ExecuteTime": {
          "end_time": "2022-09-17T07:40:53.291130Z",
          "start_time": "2022-09-17T07:40:53.275147Z"
        },
        "id": "fb95bd66"
      },
      "outputs": [],
      "source": [
        "unitA= pd.Series(df[\"Unit A\"])\n",
        "unitB=pd.Series(df[\"Unit B\"])"
      ]
    },
    {
      "cell_type": "code",
      "execution_count": 7,
      "id": "811ab3cd",
      "metadata": {
        "ExecuteTime": {
          "end_time": "2022-09-17T07:40:53.322966Z",
          "start_time": "2022-09-17T07:40:53.294717Z"
        },
        "colab": {
          "base_uri": "https://localhost:8080/"
        },
        "id": "811ab3cd",
        "outputId": "729b0607-74f3-4ef3-d553-e9c2ee5b5ee3"
      },
      "outputs": [
        {
          "data": {
            "text/plain": [
              "TtestResult(statistic=0.7228688704678063, pvalue=0.4722394724599501, df=68.0)"
            ]
          },
          "execution_count": 7,
          "metadata": {},
          "output_type": "execute_result"
        }
      ],
      "source": [
        "stats.ttest_ind(unitA , unitB)"
      ]
    },
    {
      "cell_type": "markdown",
      "id": "fe7e6ffb",
      "metadata": {
        "id": "fe7e6ffb"
      },
      "source": [
        "Scipy.stats.ttest proporciona un valor p de prueba de dos colas, así que acéptelo como está como valor p (0,47) > alfa (0,025) -> **No podemos rechazar la hipótesis nula** debido a la *falta de evidencia*-> No hay diferencias significativas en los tamaños de la costeleta\n"
      ]
    },
    {
      "cell_type": "code",
      "execution_count": 14,
      "id": "ce87dae5",
      "metadata": {
        "ExecuteTime": {
          "end_time": "2022-09-17T07:40:53.341535Z",
          "start_time": "2022-09-17T07:40:53.322966Z"
        },
        "colab": {
          "base_uri": "https://localhost:8080/"
        },
        "id": "ce87dae5",
        "outputId": "96b2508c-1569-4825-a08c-689780eb00fa"
      },
      "outputs": [
        {
          "name": "stdout",
          "output_type": "stream",
          "text": [
            "No podemos rechazar la hipótesis nula debido a la falta de evidencia, \n",
            "Por lo tanto, no hay una diferencia significativa en el tamaño promedio de las costeletas.\n"
          ]
        }
      ],
      "source": [
        "if stats.ttest_ind(unitA , unitB)[1] > 0.025 :\n",
        "    print(\"No podemos rechazar la hipótesis nula debido a la falta de evidencia, \\nPor lo tanto, no hay una diferencia significativa en el tamaño promedio de las costeletas.\")\n",
        "\n",
        "else:\n",
        "    print(\"Rechazamos la hipótesis nula. Hay evidencia suficiente para rechazar la hipótesis nula\")\n"
      ]
    },
    {
      "cell_type": "markdown",
      "id": "d0e212d6",
      "metadata": {
        "id": "d0e212d6"
      },
      "source": [
        "### Ejemplo 2.\n",
        "Un hospital quiere determinar si existe alguna diferencia en el tiempo de respuesta promedio (TAT) de los informes de los laboratorios en su lista preferida. Recolectaron una muestra aleatoria y registraron TAT para los informes de 4 laboratorios. TAT se define como muestra recolectada para informar el envío. Analice los datos y determine si existe alguna diferencia en el TAT promedio entre los diferentes laboratorios con un nivel de significancia del 5%."
      ]
    },
    {
      "cell_type": "code",
      "execution_count": 11,
      "id": "8e3290c2",
      "metadata": {
        "ExecuteTime": {
          "end_time": "2022-09-17T07:40:53.376137Z",
          "start_time": "2022-09-17T07:40:53.341535Z"
        },
        "colab": {
          "base_uri": "https://localhost:8080/"
        },
        "id": "8e3290c2",
        "outputId": "2afa8b32-f226-466e-84ab-9b6f5f9193f8"
      },
      "outputs": [
        {
          "data": {
            "text/html": [
              "<div>\n",
              "<style scoped>\n",
              "    .dataframe tbody tr th:only-of-type {\n",
              "        vertical-align: middle;\n",
              "    }\n",
              "\n",
              "    .dataframe tbody tr th {\n",
              "        vertical-align: top;\n",
              "    }\n",
              "\n",
              "    .dataframe thead th {\n",
              "        text-align: right;\n",
              "    }\n",
              "</style>\n",
              "<table border=\"1\" class=\"dataframe\">\n",
              "  <thead>\n",
              "    <tr style=\"text-align: right;\">\n",
              "      <th></th>\n",
              "      <th>Laboratorio 1</th>\n",
              "      <th>Laboratorio 2</th>\n",
              "      <th>Laboratorio 3</th>\n",
              "      <th>Laboratorio 4</th>\n",
              "    </tr>\n",
              "  </thead>\n",
              "  <tbody>\n",
              "    <tr>\n",
              "      <th>0</th>\n",
              "      <td>185.35</td>\n",
              "      <td>165.53</td>\n",
              "      <td>176.70</td>\n",
              "      <td>166.13</td>\n",
              "    </tr>\n",
              "    <tr>\n",
              "      <th>1</th>\n",
              "      <td>170.49</td>\n",
              "      <td>185.91</td>\n",
              "      <td>198.45</td>\n",
              "      <td>160.79</td>\n",
              "    </tr>\n",
              "    <tr>\n",
              "      <th>2</th>\n",
              "      <td>192.77</td>\n",
              "      <td>194.92</td>\n",
              "      <td>201.23</td>\n",
              "      <td>185.18</td>\n",
              "    </tr>\n",
              "    <tr>\n",
              "      <th>3</th>\n",
              "      <td>177.33</td>\n",
              "      <td>183.00</td>\n",
              "      <td>199.61</td>\n",
              "      <td>176.42</td>\n",
              "    </tr>\n",
              "    <tr>\n",
              "      <th>4</th>\n",
              "      <td>193.41</td>\n",
              "      <td>169.57</td>\n",
              "      <td>204.63</td>\n",
              "      <td>152.60</td>\n",
              "    </tr>\n",
              "  </tbody>\n",
              "</table>\n",
              "</div>"
            ],
            "text/plain": [
              "   Laboratorio 1  Laboratorio 2  Laboratorio 3  Laboratorio 4\n",
              "0         185.35         165.53         176.70         166.13\n",
              "1         170.49         185.91         198.45         160.79\n",
              "2         192.77         194.92         201.23         185.18\n",
              "3         177.33         183.00         199.61         176.42\n",
              "4         193.41         169.57         204.63         152.60"
            ]
          },
          "execution_count": 11,
          "metadata": {},
          "output_type": "execute_result"
        }
      ],
      "source": [
        "url = 'https://raw.githubusercontent.com/DiploDatos/AnalisisyVisualizacion/master/LabTAT.csv'\n",
        "df1 = pd.read_csv(url)\n",
        "df1.head()\n"
      ]
    },
    {
      "cell_type": "markdown",
      "id": "65899ab3",
      "metadata": {
        "id": "65899ab3"
      },
      "source": [
        "\n",
        "***H0***= No hay diferencia significativa en el TAT promedio de los informes de estos 4 laboratorios\n",
        "\n",
        "***H1***= Al menos uno de estos 4 laboratorios tiene un TAT promedio de informes significativamente diferente al de los demás."
      ]
    },
    {
      "cell_type": "markdown",
      "id": "acdc3419",
      "metadata": {
        "id": "acdc3419"
      },
      "source": [
        "\n",
        "Prueba ANOVA en 4 muestras."
      ]
    },
    {
      "cell_type": "markdown",
      "id": "2d4364fb",
      "metadata": {
        "id": "2d4364fb"
      },
      "source": [
        "Para un intervalo de confianza del 95% de dos colas, el nivel de significancia es del 5% y el valor alfa es 0,025"
      ]
    },
    {
      "cell_type": "code",
      "execution_count": 12,
      "id": "e0631bd4",
      "metadata": {
        "ExecuteTime": {
          "end_time": "2022-09-17T07:40:53.391083Z",
          "start_time": "2022-09-17T07:40:53.376137Z"
        },
        "colab": {
          "base_uri": "https://localhost:8080/"
        },
        "id": "e0631bd4",
        "outputId": "8ce28b0b-d1ab-4c84-c95f-9094a50083d1"
      },
      "outputs": [
        {
          "data": {
            "text/plain": [
              "F_onewayResult(statistic=118.70421654401437, pvalue=2.1156708949992414e-57)"
            ]
          },
          "execution_count": 12,
          "metadata": {},
          "output_type": "execute_result"
        }
      ],
      "source": [
        "stats.f_oneway(df1.iloc[:,0], df1.iloc[:,1],df1.iloc[:,2],df1.iloc[:,3])"
      ]
    },
    {
      "cell_type": "code",
      "execution_count": 13,
      "id": "1ec0a7a4",
      "metadata": {
        "ExecuteTime": {
          "end_time": "2022-09-17T07:40:53.406356Z",
          "start_time": "2022-09-17T07:40:53.391083Z"
        },
        "colab": {
          "base_uri": "https://localhost:8080/"
        },
        "id": "1ec0a7a4",
        "outputId": "6d80702a-d3c7-4ef6-fbd8-37ab5b6ae7e1"
      },
      "outputs": [
        {
          "name": "stdout",
          "output_type": "stream",
          "text": [
            "Rechazamos la hipótesis nula. \n",
            "Al menos uno de estos 4 laboratorios tiene un TAT promedio de informes significativamente diferente al de los demás.\n"
          ]
        }
      ],
      "source": [
        "if stats.f_oneway(df1.iloc[:,0], df1.iloc[:,1],df1.iloc[:,2],df1.iloc[:,3])[1] > 0.025 :\n",
        "    print(\"No pudimos rechazar la hipótesis nula debido a la falta de evidencia. \\n No hay diferencias significativas en el TAT promedio de los informes de estos 4 laboratorios. \")\n",
        "\n",
        "else:\n",
        "    print(\"Rechazamos la hipótesis nula. \\nAl menos uno de estos 4 laboratorios tiene un TAT promedio de informes significativamente diferente al de los demás.\")"
      ]
    },
    {
      "cell_type": "markdown",
      "id": "0e3e89c3",
      "metadata": {
        "ExecuteTime": {
          "end_time": "2022-09-13T10:18:15.285191Z",
          "start_time": "2022-09-13T10:18:15.259038Z"
        },
        "id": "0e3e89c3"
      },
      "source": [
        "### Ejemplo 3.\n",
        "Se tabulan las ventas de productos en cuatro regiones diferentes para hombres y mujeres. Encuentre si las raciones de compradores masculinos y femeninos son similares en todas las regiones.\n",
        "* Este: Hombres=50, Mujeres=550;\n",
        "* Oeste: Hombres=142, Mujeres=351;\n",
        "* Sur: Hombres=70, Mujeres=350;\n",
        "* Norte: Hombres=131, Mujeres=480"
      ]
    },
    {
      "cell_type": "code",
      "execution_count": 15,
      "id": "6f1408ff",
      "metadata": {
        "ExecuteTime": {
          "end_time": "2022-09-17T07:40:53.436743Z",
          "start_time": "2022-09-17T07:40:53.406356Z"
        },
        "colab": {
          "base_uri": "https://localhost:8080/"
        },
        "id": "6f1408ff",
        "outputId": "33e6fad9-fd8f-468f-ded4-5cacef1fed8b"
      },
      "outputs": [
        {
          "data": {
            "text/html": [
              "<div>\n",
              "<style scoped>\n",
              "    .dataframe tbody tr th:only-of-type {\n",
              "        vertical-align: middle;\n",
              "    }\n",
              "\n",
              "    .dataframe tbody tr th {\n",
              "        vertical-align: top;\n",
              "    }\n",
              "\n",
              "    .dataframe thead th {\n",
              "        text-align: right;\n",
              "    }\n",
              "</style>\n",
              "<table border=\"1\" class=\"dataframe\">\n",
              "  <thead>\n",
              "    <tr style=\"text-align: right;\">\n",
              "      <th></th>\n",
              "      <th>East</th>\n",
              "      <th>West</th>\n",
              "      <th>North</th>\n",
              "      <th>South</th>\n",
              "    </tr>\n",
              "    <tr>\n",
              "      <th>Observed Values</th>\n",
              "      <th></th>\n",
              "      <th></th>\n",
              "      <th></th>\n",
              "      <th></th>\n",
              "    </tr>\n",
              "  </thead>\n",
              "  <tbody>\n",
              "    <tr>\n",
              "      <th>Males</th>\n",
              "      <td>50</td>\n",
              "      <td>142</td>\n",
              "      <td>131</td>\n",
              "      <td>70</td>\n",
              "    </tr>\n",
              "    <tr>\n",
              "      <th>Females</th>\n",
              "      <td>435</td>\n",
              "      <td>1523</td>\n",
              "      <td>1356</td>\n",
              "      <td>750</td>\n",
              "    </tr>\n",
              "  </tbody>\n",
              "</table>\n",
              "</div>"
            ],
            "text/plain": [
              "                 East  West  North  South\n",
              "Observed Values                          \n",
              "Males              50   142    131     70\n",
              "Females           435  1523   1356    750"
            ]
          },
          "execution_count": 15,
          "metadata": {},
          "output_type": "execute_result"
        }
      ],
      "source": [
        "url = 'https://raw.githubusercontent.com/DiploDatos/AnalisisyVisualizacion/master/BuyerRatio.csv'\n",
        "df2 = pd.read_csv(url, index_col=0)\n",
        "df2.head()\n"
      ]
    },
    {
      "cell_type": "markdown",
      "id": "2d1a85cd",
      "metadata": {
        "id": "2d1a85cd"
      },
      "source": [
        "***H0***: las proporciones de compradores entre hombres y mujeres son similares en todas las regiones\n",
        "\n",
        "***H1***: las proporciones de compradores entre hombres y mujeres tienen diferencias significativas entre regiones"
      ]
    },
    {
      "cell_type": "markdown",
      "id": "3ec10ed3",
      "metadata": {
        "id": "3ec10ed3"
      },
      "source": [
        "**Prueba de chi-cuadrado**"
      ]
    },
    {
      "cell_type": "markdown",
      "id": "0fd0d4ba",
      "metadata": {
        "id": "0fd0d4ba"
      },
      "source": [
        "Para un intervalo de confianza del 95% de dos colas, el nivel de significancia es del 5% y el valor alfa es 0,025"
      ]
    },
    {
      "cell_type": "code",
      "execution_count": 16,
      "id": "3309f834",
      "metadata": {
        "ExecuteTime": {
          "end_time": "2022-09-17T07:40:53.452664Z",
          "start_time": "2022-09-17T07:40:53.436743Z"
        },
        "colab": {
          "base_uri": "https://localhost:8080/"
        },
        "id": "3309f834",
        "outputId": "1b969f92-a7e3-47de-80d5-288ef88f04b3"
      },
      "outputs": [
        {
          "data": {
            "text/plain": [
              "Chi2ContingencyResult(statistic=1.595945538661058, pvalue=0.6603094907091882, dof=3, expected_freq=array([[  42.76531299,  146.81287862,  131.11756787,   72.30424052],\n",
              "       [ 442.23468701, 1518.18712138, 1355.88243213,  747.69575948]]))"
            ]
          },
          "execution_count": 16,
          "metadata": {},
          "output_type": "execute_result"
        }
      ],
      "source": [
        "stats.chi2_contingency(df2)"
      ]
    },
    {
      "cell_type": "code",
      "execution_count": 17,
      "id": "879b6511",
      "metadata": {
        "ExecuteTime": {
          "end_time": "2022-09-17T07:40:53.468790Z",
          "start_time": "2022-09-17T07:40:53.452664Z"
        },
        "colab": {
          "base_uri": "https://localhost:8080/"
        },
        "id": "879b6511",
        "outputId": "33f80222-c8ae-4f51-a5dc-595ec81510aa"
      },
      "outputs": [
        {
          "name": "stdout",
          "output_type": "stream",
          "text": [
            "No logramos rechazar la hipótesis nula debido a la falta de evidencia. \n",
            "No hay diferencias significativas en las proporciones de compradores entre hombres y mujeres entre regiones.\n"
          ]
        }
      ],
      "source": [
        "if stats.chi2_contingency(df2)[1] > 0.025:\n",
        "    print(\"No logramos rechazar la hipótesis nula debido a la falta de evidencia. \\nNo hay diferencias significativas en las proporciones de compradores entre hombres y mujeres entre regiones.\")\n",
        "else:\n",
        "     print(\"Rechazamos la hipótesis nula \\nAlmenos una de estas 4 regiones tiene proporciones de compradores entre hombres y mujeres significativamente diferentes\")"
      ]
    },
    {
      "cell_type": "markdown",
      "id": "86d2b359",
      "metadata": {
        "ExecuteTime": {
          "end_time": "2022-09-13T10:23:16.057842Z",
          "start_time": "2022-09-13T10:23:16.038806Z"
        },
        "id": "86d2b359"
      },
      "source": [
        "### Ejemplo 4.\n",
        "TeleCall utiliza 4 centros en todo el mundo para procesar los formularios de pedido de los clientes. Auditan un determinado porcentaje de los formularios de pedido de los clientes. Cualquier error en el formulario de pedido lo convierte en defectuoso y debe corregirse antes de procesarlo. El responsable quiere comprobar si el % de defectuosos varía según el centro. Analice los datos con un nivel de significancia del 5% y ayude al gerente a sacar las inferencias apropiadas."
      ]
    },
    {
      "cell_type": "code",
      "execution_count": 18,
      "id": "b4df7b35",
      "metadata": {
        "ExecuteTime": {
          "end_time": "2022-09-17T07:40:53.502507Z",
          "start_time": "2022-09-17T07:40:53.472146Z"
        },
        "colab": {
          "base_uri": "https://localhost:8080/"
        },
        "id": "b4df7b35",
        "outputId": "50f6341c-f359-467e-f2ec-08b92dd49beb"
      },
      "outputs": [
        {
          "data": {
            "text/html": [
              "<div>\n",
              "<style scoped>\n",
              "    .dataframe tbody tr th:only-of-type {\n",
              "        vertical-align: middle;\n",
              "    }\n",
              "\n",
              "    .dataframe tbody tr th {\n",
              "        vertical-align: top;\n",
              "    }\n",
              "\n",
              "    .dataframe thead th {\n",
              "        text-align: right;\n",
              "    }\n",
              "</style>\n",
              "<table border=\"1\" class=\"dataframe\">\n",
              "  <thead>\n",
              "    <tr style=\"text-align: right;\">\n",
              "      <th></th>\n",
              "      <th>Phillippines</th>\n",
              "      <th>Indonesia</th>\n",
              "      <th>Malta</th>\n",
              "      <th>India</th>\n",
              "    </tr>\n",
              "  </thead>\n",
              "  <tbody>\n",
              "    <tr>\n",
              "      <th>0</th>\n",
              "      <td>Error Free</td>\n",
              "      <td>Error Free</td>\n",
              "      <td>Defective</td>\n",
              "      <td>Error Free</td>\n",
              "    </tr>\n",
              "    <tr>\n",
              "      <th>1</th>\n",
              "      <td>Error Free</td>\n",
              "      <td>Error Free</td>\n",
              "      <td>Error Free</td>\n",
              "      <td>Defective</td>\n",
              "    </tr>\n",
              "    <tr>\n",
              "      <th>2</th>\n",
              "      <td>Error Free</td>\n",
              "      <td>Defective</td>\n",
              "      <td>Defective</td>\n",
              "      <td>Error Free</td>\n",
              "    </tr>\n",
              "    <tr>\n",
              "      <th>3</th>\n",
              "      <td>Error Free</td>\n",
              "      <td>Error Free</td>\n",
              "      <td>Error Free</td>\n",
              "      <td>Error Free</td>\n",
              "    </tr>\n",
              "    <tr>\n",
              "      <th>4</th>\n",
              "      <td>Error Free</td>\n",
              "      <td>Error Free</td>\n",
              "      <td>Defective</td>\n",
              "      <td>Error Free</td>\n",
              "    </tr>\n",
              "  </tbody>\n",
              "</table>\n",
              "</div>"
            ],
            "text/plain": [
              "  Phillippines   Indonesia       Malta       India\n",
              "0   Error Free  Error Free   Defective  Error Free\n",
              "1   Error Free  Error Free  Error Free   Defective\n",
              "2   Error Free   Defective   Defective  Error Free\n",
              "3   Error Free  Error Free  Error Free  Error Free\n",
              "4   Error Free  Error Free   Defective  Error Free"
            ]
          },
          "execution_count": 18,
          "metadata": {},
          "output_type": "execute_result"
        }
      ],
      "source": [
        "url = 'https://raw.githubusercontent.com/DiploDatos/AnalisisyVisualizacion/master/Customer+OrderForm.csv'\n",
        "df3 = pd.read_csv(url)\n",
        "df3.head()\n"
      ]
    },
    {
      "cell_type": "code",
      "execution_count": 19,
      "id": "e6b1b2a1",
      "metadata": {
        "ExecuteTime": {
          "end_time": "2022-09-17T07:40:53.600445Z",
          "start_time": "2022-09-17T07:40:53.507418Z"
        },
        "id": "e6b1b2a1"
      },
      "outputs": [],
      "source": [
        "country=[]\n",
        "error=[]\n",
        "\n",
        "for i in range (0,4):\n",
        "    for j in range (0,300):\n",
        "        if df3.iloc[j,i] == \"Error Free\":\n",
        "            error.append(\"Error Free\")\n",
        "            country.append(df3.columns[i])\n",
        "        elif df3.iloc[j,i]==\"Defective\":\n",
        "             error.append(\"Defective\")\n",
        "             country.append(df3.columns[i])\n"
      ]
    },
    {
      "cell_type": "code",
      "execution_count": 20,
      "id": "d83ebf25",
      "metadata": {
        "ExecuteTime": {
          "end_time": "2022-09-17T07:40:53.619924Z",
          "start_time": "2022-09-17T07:40:53.600445Z"
        },
        "id": "d83ebf25"
      },
      "outputs": [],
      "source": [
        "df4=pd.DataFrame()\n",
        "df4['country']=country\n",
        "df4[\"Error\"]=error"
      ]
    },
    {
      "cell_type": "code",
      "execution_count": 21,
      "id": "288f2821",
      "metadata": {
        "ExecuteTime": {
          "end_time": "2022-09-17T07:40:53.685847Z",
          "start_time": "2022-09-17T07:40:53.631216Z"
        },
        "colab": {
          "base_uri": "https://localhost:8080/"
        },
        "id": "288f2821",
        "outputId": "d91e9854-685c-4e49-be7c-80de73f7eaea"
      },
      "outputs": [
        {
          "data": {
            "text/html": [
              "<div>\n",
              "<style scoped>\n",
              "    .dataframe tbody tr th:only-of-type {\n",
              "        vertical-align: middle;\n",
              "    }\n",
              "\n",
              "    .dataframe tbody tr th {\n",
              "        vertical-align: top;\n",
              "    }\n",
              "\n",
              "    .dataframe thead th {\n",
              "        text-align: right;\n",
              "    }\n",
              "</style>\n",
              "<table border=\"1\" class=\"dataframe\">\n",
              "  <thead>\n",
              "    <tr style=\"text-align: right;\">\n",
              "      <th>country</th>\n",
              "      <th>India</th>\n",
              "      <th>Indonesia</th>\n",
              "      <th>Malta</th>\n",
              "      <th>Phillippines</th>\n",
              "    </tr>\n",
              "    <tr>\n",
              "      <th>Error</th>\n",
              "      <th></th>\n",
              "      <th></th>\n",
              "      <th></th>\n",
              "      <th></th>\n",
              "    </tr>\n",
              "  </thead>\n",
              "  <tbody>\n",
              "    <tr>\n",
              "      <th>Defective</th>\n",
              "      <td>20</td>\n",
              "      <td>33</td>\n",
              "      <td>31</td>\n",
              "      <td>29</td>\n",
              "    </tr>\n",
              "    <tr>\n",
              "      <th>Error Free</th>\n",
              "      <td>280</td>\n",
              "      <td>267</td>\n",
              "      <td>269</td>\n",
              "      <td>271</td>\n",
              "    </tr>\n",
              "  </tbody>\n",
              "</table>\n",
              "</div>"
            ],
            "text/plain": [
              "country     India  Indonesia  Malta  Phillippines\n",
              "Error                                            \n",
              "Defective      20         33     31            29\n",
              "Error Free    280        267    269           271"
            ]
          },
          "execution_count": 21,
          "metadata": {},
          "output_type": "execute_result"
        }
      ],
      "source": [
        "defect=pd.crosstab(df4.Error, df4.country)\n",
        "defect"
      ]
    },
    {
      "cell_type": "markdown",
      "id": "3535ebb1",
      "metadata": {
        "ExecuteTime": {
          "end_time": "2022-09-14T12:05:31.789959Z",
          "start_time": "2022-09-14T12:05:31.776709Z"
        },
        "id": "3535ebb1"
      },
      "source": [
        "\n",
        "H0= No hay diferencia significativa en % de defectuosos entre 4 centros.\n",
        "\n",
        "H1= diferencia significativa en % de defectuosos entre 4 centros."
      ]
    },
    {
      "cell_type": "markdown",
      "id": "b20d88e0",
      "metadata": {
        "id": "b20d88e0"
      },
      "source": [
        "\n",
        "Prueba de chi-cuadrado"
      ]
    },
    {
      "cell_type": "markdown",
      "id": "70334e36",
      "metadata": {
        "id": "70334e36"
      },
      "source": [
        "\n",
        "Para un intervalo de confianza del 95% de dos colas, el nivel de significancia es del 5% y el valor alfa es 0,025"
      ]
    },
    {
      "cell_type": "code",
      "execution_count": 22,
      "id": "52fd27a6",
      "metadata": {
        "ExecuteTime": {
          "end_time": "2022-09-17T07:40:53.701842Z",
          "start_time": "2022-09-17T07:40:53.685847Z"
        },
        "colab": {
          "base_uri": "https://localhost:8080/"
        },
        "id": "52fd27a6",
        "outputId": "0f22d11e-c158-469b-ecce-5e535c7b3508"
      },
      "outputs": [
        {
          "data": {
            "text/plain": [
              "Chi2ContingencyResult(statistic=3.858960685820355, pvalue=0.2771020991233135, dof=3, expected_freq=array([[ 28.25,  28.25,  28.25,  28.25],\n",
              "       [271.75, 271.75, 271.75, 271.75]]))"
            ]
          },
          "execution_count": 22,
          "metadata": {},
          "output_type": "execute_result"
        }
      ],
      "source": [
        "stats.chi2_contingency(defect)"
      ]
    },
    {
      "cell_type": "code",
      "execution_count": 23,
      "id": "2f76a72a",
      "metadata": {
        "ExecuteTime": {
          "end_time": "2022-09-17T07:40:53.717909Z",
          "start_time": "2022-09-17T07:40:53.704216Z"
        },
        "colab": {
          "base_uri": "https://localhost:8080/"
        },
        "id": "2f76a72a",
        "outputId": "483e298f-eb44-47b1-e891-ed9841ebf55d"
      },
      "outputs": [
        {
          "name": "stdout",
          "output_type": "stream",
          "text": [
            "No logramos rechazar la hipótesis nula debido a la falta de evidencia. \n",
            " No hay diferencias significativas en el % de defectos entre 4 centros.\n"
          ]
        }
      ],
      "source": [
        "if stats.chi2_contingency(defect)[1] > 0.025:\n",
        "    print(\"No logramos rechazar la hipótesis nula debido a la falta de evidencia. \\n No hay diferencias significativas en el % de defectos entre 4 centros.\")\n",
        "else:\n",
        "     print(\"Rechazamos la hipótesis nula \\nAl menos uno de estos 4 centros tiene un % de defectos significativamente diferente \")"
      ]
    }
  ],
  "metadata": {
    "colab": {
      "provenance": []
    },
    "kernelspec": {
      "display_name": "Python 3 (ipykernel)",
      "language": "python",
      "name": "python3"
    },
    "language_info": {
      "codemirror_mode": {
        "name": "ipython",
        "version": 3
      },
      "file_extension": ".py",
      "mimetype": "text/x-python",
      "name": "python",
      "nbconvert_exporter": "python",
      "pygments_lexer": "ipython3",
      "version": "3.11.8"
    }
  },
  "nbformat": 4,
  "nbformat_minor": 5
}
